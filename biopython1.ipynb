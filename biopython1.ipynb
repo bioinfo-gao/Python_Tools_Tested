{
 "cells": [
  {
   "cell_type": "markdown",
   "id": "fdd79187",
   "metadata": {
    "slideshow": {
     "slide_type": "notes"
    }
   },
   "source": [
    "%pip install biopython"
   ]
  },
  {
   "cell_type": "code",
   "execution_count": null,
   "id": "41e115bc",
   "metadata": {},
   "outputs": [],
   "source": [
    "from Bio import SeqIO\n",
    "# I add Alt+x+Delete to delete all output\n",
    "# Alt+Delete to delete output of current cell by default\n",
    "# shift + Cttl + K delete a line\n"
   ]
  },
  {
   "cell_type": "code",
   "execution_count": null,
   "id": "14f63b03",
   "metadata": {},
   "outputs": [],
   "source": [
    "from Bio.Seq import Seq"
   ]
  },
  {
   "cell_type": "code",
   "execution_count": null,
   "id": "98bcdfcb",
   "metadata": {},
   "outputs": [],
   "source": [
    "for record in SeqIO.parse(\"example.fasta\", \"fasta\"):\n",
    "    print(record.id)\n",
    "    print(repr(record.seq))\n",
    "    print(len(record))\n",
    "    print(record.seq[5:15])\n",
    "    print(record.seq[-10:])\n",
    "    "
   ]
  },
  {
   "cell_type": "code",
   "execution_count": null,
   "id": "c081c5ab",
   "metadata": {},
   "outputs": [],
   "source": [
    "my_seq = Seq(\"AGTACACTGGT\")\n",
    "print(my_seq)   \n",
    "print(repr(my_seq))   \n",
    "print(str(my_seq))   \n",
    "print(my_seq.complement())      \n",
    "print(my_seq.reverse_complement())   \n",
    "print(my_seq.transcribe())\n"
   ]
  },
  {
   "cell_type": "code",
   "execution_count": null,
   "id": "63f208ff",
   "metadata": {},
   "outputs": [],
   "source": [
    "import math\n",
    "\n",
    "# List all attributes/functions in the module\n",
    "print(dir(math))"
   ]
  },
  {
   "cell_type": "code",
   "execution_count": null,
   "id": "81210022",
   "metadata": {},
   "outputs": [],
   "source": [
    "import Bio.SeqUtils \n",
    "\n",
    "# List all attributes/functions in the module\n",
    "print(dir(Bio.SeqUtils))"
   ]
  },
  {
   "cell_type": "code",
   "execution_count": null,
   "id": "b0437661",
   "metadata": {},
   "outputs": [],
   "source": [
    "from Bio import AlignIO\n",
    "alignment = AlignIO.read(\"example.aln\", \"clustal\")\n",
    "print(alignment)"
   ]
  },
  {
   "cell_type": "code",
   "execution_count": null,
   "id": "f7f991c9",
   "metadata": {},
   "outputs": [],
   "source": [
    "from Bio.SeqUtils import GC123\n",
    "gc_content = GC123(my_seq)\n",
    "print(gc_content)"
   ]
  },
  {
   "cell_type": "code",
   "execution_count": null,
   "id": "6713f173",
   "metadata": {},
   "outputs": [],
   "source": []
  }
 ],
 "metadata": {
  "kernelspec": {
   "display_name": "pytorch_GPU_cuda",
   "language": "python",
   "name": "python3"
  },
  "language_info": {
   "codemirror_mode": {
    "name": "ipython",
    "version": 3
   },
   "file_extension": ".py",
   "mimetype": "text/x-python",
   "name": "python",
   "nbconvert_exporter": "python",
   "pygments_lexer": "ipython3",
   "version": "3.12.4"
  }
 },
 "nbformat": 4,
 "nbformat_minor": 5
}
