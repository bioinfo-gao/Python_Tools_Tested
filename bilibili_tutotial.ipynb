{
 "cells": [
  {
   "cell_type": "code",
   "execution_count": null,
   "id": "7bc60328",
   "metadata": {},
   "outputs": [],
   "source": [
    "# https://www.bilibili.com/video/BV1P8XKYAEWg?spm_id_from=333.788.videopod.episodes&vd_source=9a4bc8c6c4b3f65118a7338473c15077&p=40"
   ]
  },
  {
   "cell_type": "markdown",
   "id": "974e02d4",
   "metadata": {},
   "source": [
    "# shift + enter K delete a line\n",
    "# I add Alt+x+Delete to delete all output\n",
    "# Alt+Delete to delete output of current cell by default\n",
    "# shift + Cttl + K delete a line"
   ]
  },
  {
   "cell_type": "code",
   "execution_count": 1,
   "id": "05359c78",
   "metadata": {},
   "outputs": [
    {
     "name": "stdout",
     "output_type": "stream",
     "text": [
      "1 2 3 4\n"
     ]
    }
   ],
   "source": [
    "def func(a, b,c=100, d=200):\n",
    "    print(a, b, c, d)\n",
    "\n",
    "func(1, 2, 3, 4)    "
   ]
  },
  {
   "cell_type": "code",
   "execution_count": 4,
   "id": "7db2331a",
   "metadata": {},
   "outputs": [
    {
     "name": "stdout",
     "output_type": "stream",
     "text": [
      "1 2 100 4\n"
     ]
    }
   ],
   "source": [
    "func(a=1,b=2,d=4)"
   ]
  },
  {
   "cell_type": "code",
   "execution_count": 5,
   "id": "a0a536a6",
   "metadata": {},
   "outputs": [
    {
     "name": "stdout",
     "output_type": "stream",
     "text": [
      "2 1 100 4\n"
     ]
    }
   ],
   "source": [
    "func(b=1,a=2,d=4)"
   ]
  },
  {
   "cell_type": "code",
   "execution_count": 6,
   "id": "ab806cce",
   "metadata": {},
   "outputs": [
    {
     "name": "stdout",
     "output_type": "stream",
     "text": [
      "2 1 100 4\n"
     ]
    }
   ],
   "source": [
    "func(d=4, b=1,a=2)"
   ]
  },
  {
   "cell_type": "code",
   "execution_count": 7,
   "id": "a6bae06c",
   "metadata": {},
   "outputs": [
    {
     "ename": "SyntaxError",
     "evalue": "positional argument follows keyword argument (1543930890.py, line 1)",
     "output_type": "error",
     "traceback": [
      "\u001b[1;36m  Cell \u001b[1;32mIn[7], line 1\u001b[1;36m\u001b[0m\n\u001b[1;33m    func(d=4, 1,2)  # error\u001b[0m\n\u001b[1;37m                 ^\u001b[0m\n\u001b[1;31mSyntaxError\u001b[0m\u001b[1;31m:\u001b[0m positional argument follows keyword argument\n"
     ]
    }
   ],
   "source": [
    "func(d=4, 1,2)  # error"
   ]
  },
  {
   "cell_type": "code",
   "execution_count": 9,
   "id": "987040f8",
   "metadata": {},
   "outputs": [
    {
     "data": {
      "text/plain": [
       "10"
      ]
     },
     "execution_count": 9,
     "metadata": {},
     "output_type": "execute_result"
    }
   ],
   "source": [
    "def extra_func(*args):\n",
    "    return sum(args)\n",
    "\n",
    "extra_func(1, 2, 3, 4)    "
   ]
  },
  {
   "cell_type": "code",
   "execution_count": null,
   "id": "f11564df",
   "metadata": {},
   "outputs": [
    {
     "name": "stdout",
     "output_type": "stream",
     "text": [
      "1 2 3 4\n"
     ]
    }
   ],
   "source": [
    "def func(a, b,c=100, d=200):\n",
    "    print(a, b, c, d)\n",
    "\n",
    "func(1, 2, 3, 4)    "
   ]
  },
  {
   "cell_type": "code",
   "execution_count": 10,
   "id": "b815a5a7",
   "metadata": {},
   "outputs": [
    {
     "name": "stdout",
     "output_type": "stream",
     "text": [
      "{'name': 'apple', 'fruit': 'apple'}\n",
      "My favorite fruit is  apple\n"
     ]
    }
   ],
   "source": [
    "def kwfunc(**kwargs):\n",
    "    print(kwargs)\n",
    "    if   'fruit' in kwargs:  \n",
    "        print('My favorite fruit is ', kwargs['name'])\n",
    "    else:\n",
    "        print('no name')\n",
    "\n",
    "kwfunc(name='apple', fruit='apple')"
   ]
  },
  {
   "cell_type": "code",
   "execution_count": 11,
   "id": "910dc800",
   "metadata": {},
   "outputs": [
    {
     "name": "stdout",
     "output_type": "stream",
     "text": [
      "Requirement already satisfied: colorama in c:\\users\\zhen-\\anaconda3\\envs\\pytorch_gpu_cuda\\lib\\site-packages (0.4.6)\n",
      "Note: you may need to restart the kernel to use updated packages.\n"
     ]
    }
   ],
   "source": [
    "%pip install colorama   "
   ]
  },
  {
   "cell_type": "code",
   "execution_count": 10,
   "id": "0effde48",
   "metadata": {},
   "outputs": [
    {
     "name": "stdout",
     "output_type": "stream",
     "text": [
      "unsupported operand type(s) for +: 'int' and 'str' Something went wrong\n",
      "\n",
      "\n",
      "The 'try except' is finished\n"
     ]
    }
   ],
   "source": [
    "try:\n",
    "    result = 10 + '10'\n",
    "except TypeError as e:\n",
    "    print(e, \"Something went wrong\", end= '\\n')\n",
    "else:\n",
    "    print(\"Everything went well!\")    \n",
    "finally:\n",
    "    print(\"\\n\")\n",
    "    print(\"The 'try except' is finished\")"
   ]
  },
  {
   "cell_type": "code",
   "execution_count": 2,
   "id": "c2d70a3b",
   "metadata": {},
   "outputs": [
    {
     "name": "stdout",
     "output_type": "stream",
     "text": [
      "Everything went well!\n"
     ]
    }
   ],
   "source": [
    "try:\n",
    "    result = 10 + 10\n",
    "except TypeError as e:\n",
    "    print(e, \"Something went wrong!\")\n",
    "else  :\n",
    "    print(\"Everything went well!\")    "
   ]
  },
  {
   "cell_type": "code",
   "execution_count": 1,
   "id": "a854b70f",
   "metadata": {},
   "outputs": [
    {
     "name": "stdout",
     "output_type": "stream",
     "text": [
      "Hello!\n",
      "Hello!\n",
      "Hello!\n"
     ]
    }
   ],
   "source": [
    "def repeat(n):\n",
    "    def decorator(func):\n",
    "        def wrapper(*args, **kwargs):\n",
    "            for _ in range(n):\n",
    "                result = func(*args, **kwargs)\n",
    "            return result\n",
    "        return wrapper\n",
    "    return decorator\n",
    "\n",
    "@repeat(3)\n",
    "def greet():\n",
    "    print(\"Hello!\")\n",
    "\n",
    "greet()\n",
    "# 输出 3 次 \"Hello!\""
   ]
  },
  {
   "cell_type": "code",
   "execution_count": null,
   "id": "a4b2bef5",
   "metadata": {},
   "outputs": [
    {
     "name": "stdout",
     "output_type": "stream",
     "text": [
      "The d.get( of China) :  Beijing\n",
      "The d.get( of China) :  Beijing\n",
      "The d.get( of USA) :  Washington D.C.\n",
      "The d.get( of USA) :  Washington D.C.\n",
      "The d.get( of Germany) :  Berlin\n",
      "The d.get( of Germany) :  Berlin\n"
     ]
    }
   ],
   "source": [
    "@repeat(2)\n",
    "def get_dict_value(d, key):\n",
    "    print(f\"The d.get( of {key}) : \", d.get(key))\n",
    "    \n",
    "dict_of_countries_and_capitals= {'USA': \"Washington D.C.\", 'China': \"Beijing\", 'France': \"Paris\", 'Germany': \"Berlin\", 'Japan': \"Tokyo\"}\n",
    "get_dict_value(dict_of_countries_and_capitals, 'China')\n",
    "get_dict_value(dict_of_countries_and_capitals, 'USA')\n",
    "get_dict_value(dict_of_countries_and_capitals, 'Germany')"
   ]
  },
  {
   "cell_type": "code",
   "execution_count": 5,
   "id": "719ccf3e",
   "metadata": {},
   "outputs": [
    {
     "name": "stdout",
     "output_type": "stream",
     "text": [
      "函数 say_hi 被调用了 1 次\n",
      "Hi!\n",
      "函数 say_hi 被调用了 2 次\n",
      "Hi!\n"
     ]
    }
   ],
   "source": [
    "class CountCalls:\n",
    "    def __init__(self, func):\n",
    "        self.func = func\n",
    "        self.count = 0\n",
    "\n",
    "    def __call__(self, *args, **kwargs):\n",
    "        self.count += 1\n",
    "        print(f\"函数 {self.func.__name__} 被调用了 {self.count} 次\")\n",
    "        return self.func(*args, **kwargs)\n",
    "\n",
    "@CountCalls\n",
    "def say_hi():\n",
    "    print(\"Hi!\")\n",
    "\n",
    "say_hi()  # 调用1次\n",
    "say_hi()  # 调用2次"
   ]
  },
  {
   "cell_type": "code",
   "execution_count": 6,
   "id": "0c17d425",
   "metadata": {},
   "outputs": [
    {
     "name": "stdout",
     "output_type": "stream",
     "text": [
      "78.5\n"
     ]
    }
   ],
   "source": [
    "# 内置装饰器\n",
    "# ✅ @property —— 把方法变成属性\n",
    "\n",
    "class Circle:\n",
    "    def __init__(self, radius):\n",
    "        self._radius = radius\n",
    "\n",
    "    @property\n",
    "    def area(self):\n",
    "        return 3.14 * self._radius ** 2\n",
    "\n",
    "c = Circle(5)\n",
    "print(c.area)  # 像访问属性一样，实际调用方法"
   ]
  },
  {
   "cell_type": "code",
   "execution_count": 7,
   "id": "b14b81fd",
   "metadata": {},
   "outputs": [
    {
     "name": "stdout",
     "output_type": "stream",
     "text": [
      "5\n"
     ]
    }
   ],
   "source": [
    "# @staticmethod —— 静态方法\n",
    "\n",
    "class MathUtils:\n",
    "    @staticmethod\n",
    "    def add(a, b):\n",
    "        return a + b\n",
    "\n",
    "print(MathUtils.add(2, 3))  # 不需要实例"
   ]
  },
  {
   "cell_type": "code",
   "execution_count": 8,
   "id": "e5bd00b1",
   "metadata": {},
   "outputs": [
    {
     "name": "stdout",
     "output_type": "stream",
     "text": [
      "Homo sapiens\n"
     ]
    }
   ],
   "source": [
    "# @classmethod —— 类方法（接收 cls）\n",
    "class Person:\n",
    "    species = \"Homo sapiens\"\n",
    "\n",
    "    @classmethod\n",
    "    def get_species(cls):\n",
    "        return cls.species\n",
    "\n",
    "print(Person.get_species())  # Homo sapiens"
   ]
  },
  {
   "cell_type": "markdown",
   "id": "49e41bc8",
   "metadata": {},
   "source": []
  },
  {
   "cell_type": "code",
   "execution_count": 9,
   "id": "6537c5aa",
   "metadata": {},
   "outputs": [
    {
     "name": "stdout",
     "output_type": "stream",
     "text": [
      "wrapper\n",
      "我是 wrapper 的文档\n"
     ]
    }
   ],
   "source": [
    "# 保留原函数信息 —— functools.wraps\n",
    "# 装饰器会“遮盖”原函数的名称、文档等信息：\n",
    "def my_decorator(func):\n",
    "    def wrapper():\n",
    "        \"\"\"我是 wrapper 的文档\"\"\"\n",
    "        return func()\n",
    "    return wrapper\n",
    "\n",
    "@my_decorator\n",
    "def say_hello():\n",
    "    \"\"\"这是打招呼函数\"\"\"\n",
    "    print(\"Hello!\")\n",
    "\n",
    "print(say_hello.__name__)  # 输出: wrapper ❌\n",
    "print(say_hello.__doc__)   # 输出: 我是 wrapper 的文档 ❌"
   ]
  },
  {
   "cell_type": "code",
   "execution_count": null,
   "id": "c75a6b85",
   "metadata": {},
   "outputs": [
    {
     "name": "stdout",
     "output_type": "stream",
     "text": [
      "say_hello\n",
      "这是打招呼函数\n"
     ]
    }
   ],
   "source": [
    "from functools import wraps\n",
    "\n",
    "def my_decorator(func):\n",
    "    @wraps(func)  # ← 加这一行 《《=======================\n",
    "    def wrapper():\n",
    "        \"\"\"我是 wrapper 的文档\"\"\"\n",
    "        return func()\n",
    "    return wrapper\n",
    "\n",
    "@my_decorator\n",
    "def say_hello():\n",
    "    \"\"\"这是打招呼函数\"\"\"\n",
    "    print(\"Hello!\")\n",
    "\n",
    "print(say_hello.__name__)  # 输出: say_hello ✅\n",
    "print(say_hello.__doc__)   # 输出: 这是打招呼函数 ✅"
   ]
  },
  {
   "cell_type": "code",
   "execution_count": 11,
   "id": "da3a26ea",
   "metadata": {},
   "outputs": [
    {
     "name": "stdout",
     "output_type": "stream",
     "text": [
      "slow_function 耗时: 1.0011 秒\n"
     ]
    },
    {
     "data": {
      "text/plain": [
       "'Done'"
      ]
     },
     "execution_count": 11,
     "metadata": {},
     "output_type": "execute_result"
    }
   ],
   "source": [
    "# 10个实战装饰器案例\n",
    "# 1. 计时器\n",
    "import time\n",
    "from functools import wraps\n",
    "\n",
    "def timer(func):\n",
    "    @wraps(func)\n",
    "    def wrapper(*args, **kwargs):\n",
    "        start = time.time()\n",
    "        result = func(*args, **kwargs)\n",
    "        print(f\"{func.__name__} 耗时: {time.time() - start:.4f} 秒\")\n",
    "        return result\n",
    "    return wrapper\n",
    "\n",
    "@timer\n",
    "def slow_function():\n",
    "    time.sleep(1)\n",
    "    return \"Done\"\n",
    "\n",
    "slow_function()  # slow_function 耗时: 1.0012 秒"
   ]
  },
  {
   "cell_type": "code",
   "execution_count": 12,
   "id": "599cde97",
   "metadata": {},
   "outputs": [
    {
     "name": "stdout",
     "output_type": "stream",
     "text": [
      "调用 multiply，参数: (3, 4), {}\n",
      "multiply 返回: 12\n"
     ]
    },
    {
     "data": {
      "text/plain": [
       "12"
      ]
     },
     "execution_count": 12,
     "metadata": {},
     "output_type": "execute_result"
    }
   ],
   "source": [
    "# 2. 日志记录\n",
    "def log_calls(func):\n",
    "    @wraps(func)\n",
    "    def wrapper(*args, **kwargs):\n",
    "        print(f\"调用 {func.__name__}，参数: {args}, {kwargs}\")\n",
    "        result = func(*args, **kwargs)\n",
    "        print(f\"{func.__name__} 返回: {result}\")\n",
    "        return result\n",
    "    return wrapper\n",
    "\n",
    "@log_calls\n",
    "def multiply(a, b):\n",
    "    return a * b\n",
    "\n",
    "multiply(3, 4)\n",
    "# 调用 multiply，参数: (3, 4), {}\n",
    "# multiply 返回: 12"
   ]
  },
  {
   "cell_type": "code",
   "execution_count": 15,
   "id": "76bd3717",
   "metadata": {},
   "outputs": [
    {
     "name": "stdout",
     "output_type": "stream",
     "text": [
      "调用 multiply，参数: (3, 4), {'factor': 5.5}\n",
      "multiply 返回: 66.0\n"
     ]
    },
    {
     "data": {
      "text/plain": [
       "66.0"
      ]
     },
     "execution_count": 15,
     "metadata": {},
     "output_type": "execute_result"
    }
   ],
   "source": [
    "# 2A. 日志记录\n",
    "@log_calls\n",
    "def multiply(a, b, factor=1):\n",
    "    return a * b * factor\n",
    "    return a * b\n",
    "\n",
    "multiply(3, 4, factor=5.5)\n",
    "# 调用 multiply，参数: (3, 4), {}\n",
    "# multiply 返回: 12"
   ]
  },
  {
   "cell_type": "code",
   "execution_count": null,
   "id": "5603ce65",
   "metadata": {},
   "outputs": [],
   "source": [
    "# 3. 权限验证\n",
    "#import sys\n",
    "#import os\n",
    "from functools import wraps\n",
    "def require_admin(func):\n",
    "    @wraps(func)\n",
    "    def wrapper(user, *args, **kwargs):\n",
    "        if user.get('role') == 'admin':\n",
    "            print(\"You have 管理员权限, proceed\")\n",
    "        else:\n",
    "            print(\"You are not adimin, 需要管理员权限, 无法继续\")\n",
    "            raise Exception(\"Stop Execution\")\n",
    "            #raise PermissionError(\"需要管理员权限\")\n",
    "        return func(user, *args, **kwargs)\n",
    "    return wrapper\n",
    "\n",
    "@require_admin\n",
    "def delete_user(user, user_id):\n",
    "    print(f\"正在删除用户 {user_id}\")\n",
    "\n",
    "admin = {'name': 'Alice', 'role': 'admin'}\n",
    "user = {'name': 'Bob', 'role': 'user'}\n",
    "\n",
    "delete_user(admin, 123)  # ✅ 成功\n",
    "delete_user(user, 123)   # ❌ PermissionError"
   ]
  },
  {
   "cell_type": "code",
   "execution_count": 17,
   "id": "7a805568",
   "metadata": {},
   "outputs": [
    {
     "name": "stdout",
     "output_type": "stream",
     "text": [
      "1\n",
      "缓存命中: (1,)\n",
      "缓存值是: {(1,): 1, (0,): 0}\n",
      "1\n",
      "缓存命中: (1,)\n",
      "缓存值是: {(1,): 1, (0,): 0, (2,): 1}\n",
      "缓存命中: (2,)\n",
      "缓存值是: {(1,): 1, (0,): 0, (2,): 1}\n",
      "2\n",
      "缓存命中: (2,)\n",
      "缓存值是: {(1,): 1, (0,): 0, (2,): 1, (3,): 2}\n",
      "缓存命中: (3,)\n",
      "缓存值是: {(1,): 1, (0,): 0, (2,): 1, (3,): 2}\n",
      "3\n",
      "缓存命中: (3,)\n",
      "缓存值是: {(1,): 1, (0,): 0, (2,): 1, (3,): 2, (4,): 3}\n",
      "缓存命中: (4,)\n",
      "缓存值是: {(1,): 1, (0,): 0, (2,): 1, (3,): 2, (4,): 3}\n",
      "5\n"
     ]
    }
   ],
   "source": [
    "# 4. 缓存（记忆化）\n",
    "def memoize(func):\n",
    "    cache = {}\n",
    "    @wraps(func)\n",
    "    def wrapper(*args):\n",
    "        if args in cache:\n",
    "            print(f\"缓存命中: {args}\")\n",
    "            print(f\"缓存值是: {cache}\")\n",
    "            return cache[args]\n",
    "        result = func(*args)\n",
    "        cache[args] = result\n",
    "        return result\n",
    "    return wrapper\n",
    "\n",
    "@memoize\n",
    "def fibonacci(n):\n",
    "    if n < 2:\n",
    "        return n\n",
    "    return fibonacci(n-2) + fibonacci(n-1)\n",
    "\n",
    "#print(fibonacci(10))  # 第二次调用会用缓存！\n",
    "print(fibonacci(1))  # 第二次调用会用缓存！\n",
    "print(fibonacci(2))  # 第二次调用会用缓存！\n",
    "print(fibonacci(3))  # 第二次调用会用缓存！\n",
    "print(fibonacci(4))  # 第二次调用会用缓存！\n",
    "print(fibonacci(5))  # 第二次调用会用缓存！\n"
   ]
  },
  {
   "cell_type": "code",
   "execution_count": 19,
   "id": "faf6e47f",
   "metadata": {},
   "outputs": [
    {
     "name": "stdout",
     "output_type": "stream",
     "text": [
      "0 1 1 2 3 5 8 13 21 34 55 "
     ]
    }
   ],
   "source": [
    "# \n",
    "def fib_recursive(n):\n",
    "    if n <= 1:\n",
    "        return n\n",
    "    return fib_recursive(n - 1) + fib_recursive(n - 2)\n",
    "\n",
    "# 测试\n",
    "for i in range(11):\n",
    "    print(fib_recursive(i), end=\" \")  # 输出: 0 1 1 2 3 5 8 13 21 34"
   ]
  },
  {
   "cell_type": "code",
   "execution_count": null,
   "id": "241bed5f",
   "metadata": {},
   "outputs": [],
   "source": [
    "# 5. 重试机制\n",
    "import time\n",
    "from functools import wraps\n",
    "\n",
    "def retry(max_attempts=3, delay=1):\n",
    "    def decorator(func):\n",
    "        @wraps(func)\n",
    "        def wrapper(*args, **kwargs):\n",
    "            for attempt in range(max_attempts):\n",
    "                try:\n",
    "                    return func(*args, **kwargs)\n",
    "                except Exception as e:\n",
    "                    print(f\"第 {attempt + 1} 次尝试失败: {e}\")\n",
    "                    if attempt < max_attempts - 1:\n",
    "                        time.sleep(delay)\n",
    "                    else:\n",
    "                        raise\n",
    "        return wrapper\n",
    "    return decorator\n",
    "\n",
    "@retry(max_attempts=3, delay=2)\n",
    "def unreliable_function():\n",
    "    import random\n",
    "    if random.random() < 0.7:\n",
    "        raise Exception(\"随机失败\")\n",
    "    return \"成功！\"\n",
    "\n",
    "print(unreliable_function())"
   ]
  },
  {
   "cell_type": "code",
   "execution_count": 24,
   "id": "b1e23022",
   "metadata": {},
   "outputs": [
    {
     "data": {
      "text/plain": [
       "'Hello, Alice'"
      ]
     },
     "execution_count": 24,
     "metadata": {},
     "output_type": "execute_result"
    }
   ],
   "source": [
    "#\n",
    "def decorator(func):\n",
    "    def wrapper(*args, **kwargs):  # ❌ 没有 *args, **kwargs\n",
    "        return func(*args, **kwargs)\n",
    "    return wrapper\n",
    "\n",
    "@decorator\n",
    "def greet(name):  # 需要参数\n",
    "    return f\"Hello, {name}\"\n",
    "\n",
    "greet(\"Alice\")  # TypeError!"
   ]
  },
  {
   "cell_type": "code",
   "execution_count": null,
   "id": "64ef147a",
   "metadata": {},
   "outputs": [],
   "source": [
    "# "
   ]
  },
  {
   "cell_type": "code",
   "execution_count": 25,
   "id": "00c186bc",
   "metadata": {},
   "outputs": [
    {
     "name": "stdout",
     "output_type": "stream",
     "text": [
      "实例方法: Alice, 类变量: 我是类变量\n",
      "类方法: 我是类变量\n",
      "由类方法创建\n",
      "静态方法计算: 3 + 5 = 8\n",
      "静态方法计算: 1 + 2 = 3\n"
     ]
    }
   ],
   "source": [
    "class MyClass:\n",
    "    class_var = \"我是类变量\"\n",
    "\n",
    "    def __init__(self, name):\n",
    "        self.name = name  # 实例变量\n",
    "\n",
    "    # 实例方法\n",
    "    def instance_method(self):\n",
    "        print(f\"实例方法: {self.name}, 类变量: {self.class_var}\")\n",
    "\n",
    "    # 类方法\n",
    "    @classmethod\n",
    "    def class_method(cls):\n",
    "        print(f\"类方法: {cls.class_var}\")\n",
    "        # 可以创建新实例\n",
    "        return cls(\"由类方法创建\")\n",
    "\n",
    "    # 静态方法\n",
    "    @staticmethod\n",
    "    def static_method(x, y):\n",
    "        print(f\"静态方法计算: {x} + {y} = {x + y}\")\n",
    "        # 不能直接访问 cls 或 self\n",
    "        # 如果非要访问类变量，必须硬编码类名：\n",
    "        # print(MyClass.class_var)  # 不推荐！\n",
    "\n",
    "# 使用示例\n",
    "obj = MyClass(\"Alice\")\n",
    "\n",
    "# 调用实例方法\n",
    "obj.instance_method()\n",
    "# 输出: 实例方法: Alice, 类变量: 我是类变量\n",
    "\n",
    "# 调用类方法（推荐用类调用）\n",
    "new_obj = MyClass.class_method()\n",
    "# 输出: 类方法: 我是类变量\n",
    "print(new_obj.name)  # 输出: 由类方法创建\n",
    "\n",
    "# 调用静态方法\n",
    "MyClass.static_method(3, 5)\n",
    "# 输出: 静态方法计算: 3 + 5 = 8\n",
    "\n",
    "# 也可以通过实例调用（但不推荐）\n",
    "obj.static_method(1, 2)"
   ]
  },
  {
   "cell_type": "code",
   "execution_count": 26,
   "id": "62bde866",
   "metadata": {},
   "outputs": [
    {
     "name": "stdout",
     "output_type": "stream",
     "text": [
      "<class '__main__.Demo'>\n",
      "无参数\n"
     ]
    }
   ],
   "source": [
    "class Demo:\n",
    "    @classmethod\n",
    "    def class_method(cls):      # ← 自动传入类\n",
    "        print(cls)              # <class '__main__.Demo'>\n",
    "\n",
    "    @staticmethod\n",
    "    def static_method():        # ← 无自动参数\n",
    "        print(\"无参数\")\n",
    "\n",
    "Demo.class_method()   # <class '__main__.Demo'>\n",
    "Demo.static_method()  # 无参数"
   ]
  },
  {
   "cell_type": "code",
   "execution_count": 27,
   "id": "3a57eab8",
   "metadata": {},
   "outputs": [
    {
     "name": "stdout",
     "output_type": "stream",
     "text": [
      "1\n"
     ]
    }
   ],
   "source": [
    "class Counter:\n",
    "    count = 0  # 类变量\n",
    "\n",
    "    @classmethod\n",
    "    def increment(cls):\n",
    "        cls.count += 1  # ✅ 可以修改类变量\n",
    "\n",
    "    @staticmethod\n",
    "    def get_count():\n",
    "        # return count           # ❌ NameError\n",
    "        # return self.count      # ❌ 没有 self\n",
    "        return Counter.count     # ✅ 但硬编码类名，不灵活\n",
    "\n",
    "Counter.increment()\n",
    "print(Counter.get_count())  # 1"
   ]
  },
  {
   "cell_type": "code",
   "execution_count": 29,
   "id": "d86a9ba7",
   "metadata": {},
   "outputs": [
    {
     "name": "stdout",
     "output_type": "stream",
     "text": [
      "犬科\n",
      "未知\n"
     ]
    }
   ],
   "source": [
    "class Animal:\n",
    "    species = \"未知\"\n",
    "\n",
    "    @classmethod\n",
    "    def get_species(cls):\n",
    "        return cls.species  # ← cls 指向实际调用的类\n",
    "\n",
    "    @staticmethod\n",
    "    def info():\n",
    "        return Animal.species  # ← 写死 Animal，不灵活！\n",
    "\n",
    "class Dog(Animal):\n",
    "    species = \"犬科\"\n",
    "\n",
    "class Cat(Animal):\n",
    "    species = \"猫科\"\n",
    "\n",
    "print(Dog.get_species())  # 犬科 ✅ cls 指向 Dog\n",
    "print(Dog.info())         # 未知 ❌ 因为写死了 Animal.species"
   ]
  },
  {
   "cell_type": "code",
   "execution_count": 32,
   "id": "ccf21ce4",
   "metadata": {},
   "outputs": [
    {
     "name": "stdout",
     "output_type": "stream",
     "text": [
      "Alice 30\n"
     ]
    }
   ],
   "source": [
    "class Person:\n",
    "    def __init__(self, name, age):\n",
    "        self.name = name\n",
    "        self.age = age\n",
    "\n",
    "    @classmethod\n",
    "    def from_string(cls, s):\n",
    "        name, age = s.split('-')\n",
    "        return cls(name, int(age))  # 支持继承！\n",
    "\n",
    "p = Person.from_string(\"Alice-30\")\n",
    "print(p.name, p.age)"
   ]
  },
  {
   "cell_type": "code",
   "execution_count": 33,
   "id": "71d41641",
   "metadata": {},
   "outputs": [
    {
     "name": "stdout",
     "output_type": "stream",
     "text": [
      "5\n",
      "True\n"
     ]
    }
   ],
   "source": [
    "class MathUtils:\n",
    "    @staticmethod\n",
    "    def add(a, b):\n",
    "        return a + b\n",
    "\n",
    "    @staticmethod\n",
    "    def is_even(n):\n",
    "        return n % 2 == 0\n",
    "\n",
    "print(MathUtils.add(2, 3))\n",
    "print(MathUtils.is_even(4))"
   ]
  },
  {
   "cell_type": "code",
   "execution_count": 34,
   "id": "a0f39a8e",
   "metadata": {},
   "outputs": [
    {
     "name": "stdout",
     "output_type": "stream",
     "text": [
      "pdf\n"
     ]
    }
   ],
   "source": [
    "class FileHandler:\n",
    "    @staticmethod\n",
    "\n",
    "    def get_extension(filename):\n",
    "        return filename.split('.')[-1]    \n",
    "\n",
    "print(FileHandler.get_extension(\"document.pdf\"))  # 输出: pdf    "
   ]
  },
  {
   "cell_type": "code",
   "execution_count": null,
   "id": "8581934a",
   "metadata": {},
   "outputs": [],
   "source": []
  }
 ],
 "metadata": {
  "kernelspec": {
   "display_name": "pytorch_GPU_cuda",
   "language": "python",
   "name": "python3"
  },
  "language_info": {
   "codemirror_mode": {
    "name": "ipython",
    "version": 3
   },
   "file_extension": ".py",
   "mimetype": "text/x-python",
   "name": "python",
   "nbconvert_exporter": "python",
   "pygments_lexer": "ipython3",
   "version": "3.12.4"
  }
 },
 "nbformat": 4,
 "nbformat_minor": 5
}
